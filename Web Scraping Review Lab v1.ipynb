{
 "cells": [
  {
   "cell_type": "markdown",
   "metadata": {},
   "source": [
    "<p style=\"text-align:center\">\n",
    "    <a href=\"https://skills.network/?utm_medium=Exinfluencer&utm_source=Exinfluencer&utm_content=000026UJ&utm_term=10006555&utm_id=NA-SkillsNetwork-Channel-SkillsNetworkCoursesIBMDA0321ENSkillsNetwork928-2022-01-01\" target=\"_blank\">\n",
    "    <img src=\"https://cf-courses-data.s3.us.cloud-object-storage.appdomain.cloud/assets/logos/SN_web_lightmode.png\" width=\"200\" alt=\"Skills Network Logo\"  />\n",
    "    </a>\n",
    "</p>\n"
   ]
  },
  {
   "cell_type": "markdown",
   "metadata": {},
   "source": [
    "# **Web Scraping Lab**\n"
   ]
  },
  {
   "cell_type": "markdown",
   "metadata": {},
   "source": [
    "Estimated time needed: **30** minutes\n"
   ]
  },
  {
   "cell_type": "markdown",
   "metadata": {},
   "source": [
    "## Objectives\n"
   ]
  },
  {
   "cell_type": "markdown",
   "metadata": {},
   "source": [
    "After completing this lab, you will be able to:\n"
   ]
  },
  {
   "cell_type": "markdown",
   "metadata": {},
   "source": [
    "* Download a webpage using requests module\n",
    "* Scrape all links from a webpage\n",
    "* Scrape all image URLs from a web page\n",
    "* Scrape data from html tables\n"
   ]
  },
  {
   "cell_type": "markdown",
   "metadata": {},
   "source": [
    "## Scrape www.ibm.com\n"
   ]
  },
  {
   "cell_type": "markdown",
   "metadata": {},
   "source": [
    "Import the required modules and functions\n"
   ]
  },
  {
   "cell_type": "code",
   "metadata": {
    "ExecuteTime": {
     "end_time": "2025-09-22T23:33:53.504960Z",
     "start_time": "2025-09-22T23:33:53.441635Z"
    }
   },
   "source": [
    "from bs4 import BeautifulSoup # this module helps in web scrapping.\n",
    "import requests  # this module helps us to download a webpage"
   ],
   "outputs": [
    {
     "name": "stderr",
     "output_type": "stream",
     "text": [
      "/opt/anaconda3/envs/data/lib/python3.12/site-packages/requests/__init__.py:86: RequestsDependencyWarning: Unable to find acceptable character detection dependency (chardet or charset_normalizer).\n",
      "  warnings.warn(\n"
     ]
    }
   ],
   "execution_count": 1
  },
  {
   "cell_type": "markdown",
   "metadata": {},
   "source": [
    "Download the contents of the webpage\n"
   ]
  },
  {
   "cell_type": "code",
   "metadata": {
    "ExecuteTime": {
     "end_time": "2025-09-22T23:33:56.411544Z",
     "start_time": "2025-09-22T23:33:56.407696Z"
    }
   },
   "source": [
    "url = \"http://www.ibm.com\""
   ],
   "outputs": [],
   "execution_count": 2
  },
  {
   "cell_type": "code",
   "metadata": {
    "ExecuteTime": {
     "end_time": "2025-09-22T23:34:03.395578Z",
     "start_time": "2025-09-22T23:34:02.337709Z"
    }
   },
   "source": [
    "# get the contents of the webpage in text format and store in a variable called data\ndata  = requests.get(url).text "
   ],
   "outputs": [],
   "execution_count": 3
  },
  {
   "cell_type": "markdown",
   "metadata": {},
   "source": [
    "Create a soup object using the class BeautifulSoup\n"
   ]
  },
  {
   "cell_type": "code",
   "metadata": {
    "ExecuteTime": {
     "end_time": "2025-09-22T23:34:07.111243Z",
     "start_time": "2025-09-22T23:34:07.086518Z"
    }
   },
   "source": [
    "soup = BeautifulSoup(data,\"html.parser\")  # create a soup object using the variable 'data'"
   ],
   "outputs": [],
   "execution_count": 4
  },
  {
   "cell_type": "markdown",
   "metadata": {},
   "source": [
    "Scrape all links\n"
   ]
  },
  {
   "cell_type": "code",
   "metadata": {
    "ExecuteTime": {
     "end_time": "2025-09-22T23:34:22.221510Z",
     "start_time": "2025-09-22T23:34:22.216709Z"
    }
   },
   "source": [
    "for link in soup.find_all('a'):  # in html anchor/link is represented by the tag <a>\n    print(link.get('href'))"
   ],
   "outputs": [
    {
     "name": "stdout",
     "output_type": "stream",
     "text": [
      "https://www.ibm.com/think/insights/lets-create-smarter-business?lnk=hpls1us\n",
      "https://www.ibm.com/thought-leadership/institute-business-value/report/2025-coo?lnk=hpls2us\n",
      "https://newsroom.ibm.com/2025-09-17-ibm-and-bharatgen-collaborate-to-accelerate-ai-adoption-in-India-powered-by-Indic-large-language-models\n",
      "https://newsroom.ibm.com/2025-09-03-IBM-Addresses-the-AI-Adoption-Gap-with-Lets-create-smarter-business\n",
      "https://newsroom.ibm.com/2025-08-26-ibm-and-amd-join-forces-to-build-the-future-of-computing\n",
      "https://newsroom.ibm.com/2025-08-20-ibm-and-nasa-release-groundbreaking-open-source-ai-model-on-hugging-face-to-predict-solar-weather-and-help-protect-critical-technology\n",
      "https://newsroom.ibm.com/2025-08-18-ibm-and-the-usta-roll-out-ai-powered-fan-experiences-for-2025-us-open\n",
      "https://newsroom.ibm.com/2025-08-18-ibm-study-sports-fans-demand-more-dynamic-digital-content,-powered-by-ai\n",
      "https://newsroom.ibm.com/2025-07-30-ibm-report-13-of-organizations-reported-breaches-of-ai-models-or-applications,-97-of-which-reported-lacking-proper-ai-access-controls\n",
      "https://newsroom.ibm.com/2025-07-23-IBM-RELEASES-SECOND-QUARTER-RESULTS\n",
      "https://www.ibm.com/case-studies?lnk=hprc1us\n",
      "https://www.ibm.com/solutions/hybrid-cloud?lnk=hprc2us\n",
      "https://www.ibm.com/campaign/gen-ai-for-business?lnk=hprc3us\n",
      "https://www.ibm.com/new/announcements/ibm-named-a-leader-in-the-forrester-wave-integration-platform-as-a-service?lnk=hprc4us\n",
      "https://www.ibm.com/community/ibm-techxchange-conference/?lnk=hpdev1us\n",
      "https://github.com/ibm-granite-community/granite-snack-cookbook?lnk=hpdev2us\n",
      "https://developer.ibm.com/technologies/artificial-intelligence/?lnk=hpdev3us\n",
      "https://www.ibm.com/account/reg/signup?formid=urx-51898&lnk=hpdev4us\n",
      "https://www.ibm.com/new/announcements/openai-s-open-source-models-available-on-ibm-watsonx-ai?lnk=hpdev5us\n",
      "https://research.ibm.com/blog/granite-vision-ocr-leaderboard?lnk=hpdev6us\n",
      "https://www.ibm.com/new/announcements/governing-ai-with-confidence-our-journey-with-watsonx-governance?lnk=hpdev7us\n",
      "https://www.ibm.com/products/watsonx-code-assistant/pricing?lnk=hpdev8us\n",
      "https://www.ibm.com/products/offers-and-discounts?lnk=hpdo1us\n",
      "https://www.ibm.com/software?lnk=hpfp1us\n",
      "https://www.ibm.com/solutions/ai-agents?lnk=hpfp2us\n",
      "https://www.ibm.com/solutions/data-and-ai?lnk=hpfp3us\n",
      "https://www.ibm.com/solutions/automation?lnk=hpfp4us\n",
      "https://www.ibm.com/solutions/hybrid-cloud?lnk=hpfp5us\n",
      "https://www.ibm.com/solutions/ai-models?lnk=hpfp6us\n",
      "https://www.ibm.com/solutions/analytics?lnk=hpfp7us\n",
      "https://www.ibm.com/solutions/security?lnk=hpfp8us\n",
      "https://www.ibm.com/consulting?lnk=hpfp9us\n",
      "https://www.ibm.com/about?lnk=hpii1us\n",
      "https://www.ibm.com/history?lnk=hpii1us\n",
      "https://research.ibm.com?lnk=hpii1us\n",
      "https://www.ibm.com/quantum?lnk=hpii1us\n",
      "https://www.ibm.com/careers?lnk=hpii1us\n",
      "https://skillsbuild.org?lnk=hpii1us\n"
     ]
    }
   ],
   "execution_count": 5
  },
  {
   "cell_type": "markdown",
   "metadata": {},
   "source": [
    "Scrape  all images\n"
   ]
  },
  {
   "cell_type": "code",
   "metadata": {
    "ExecuteTime": {
     "end_time": "2025-09-22T23:34:32.906082Z",
     "start_time": "2025-09-22T23:34:32.902389Z"
    }
   },
   "source": [
    "for link in soup.find_all('img'):# in html image is represented by the tag <img>\n    print(link.get('src'))"
   ],
   "outputs": [
    {
     "name": "stdout",
     "output_type": "stream",
     "text": [
      "https://assets.ibm.com/is/image/ibm/homepage-smarterbusiness-r4u-1?ts=1757421775193&dpr=off\n",
      "https://assets.ibm.com/is/image/ibm/homepage-smarterbusiness-r4u-2?ts=1757421770264&dpr=off\n",
      "https://assets.ibm.com/is/image/ibm/homepage-smarterbusiness-r4u-3?ts=1757421771008&dpr=off\n",
      "https://assets.ibm.com/is/image/ibm/homepage-smarterbusiness-r4u-4?ts=1757421779063&dpr=off\n",
      "https://assets.ibm.com/is/image/ibm/big-blue-for-you-promo?ts=1757421783987&dpr=off\n",
      "https://assets.ibm.com/is/image/ibm/sb-subscribe-16-9?ts=1757421792351&dpr=off\n"
     ]
    }
   ],
   "execution_count": 6
  },
  {
   "cell_type": "markdown",
   "metadata": {},
   "source": [
    "## Scrape data from html tables\n"
   ]
  },
  {
   "cell_type": "code",
   "metadata": {
    "ExecuteTime": {
     "end_time": "2025-09-22T23:35:04.994096Z",
     "start_time": "2025-09-22T23:35:04.987270Z"
    }
   },
   "source": [
    "#The below URL contains a html table with data about colors and color codes.\nURL = \"https://cf-courses-data.s3.us.cloud-object-storage.appdomain.cloud/IBM-DA0321EN-SkillsNetwork/labs/datasets/HTMLColorCodes.html\"\n"
   ],
   "outputs": [],
   "execution_count": 7
  },
  {
   "cell_type": "markdown",
   "metadata": {},
   "source": [
    "Before proceeding to scrape a website, you need to examine the contents, and the way data is organized on the website. Open the above URL in your browser and check how many rows and columns are there in the color table.\n"
   ]
  },
  {
   "cell_type": "code",
   "metadata": {
    "ExecuteTime": {
     "end_time": "2025-09-22T23:35:30.479135Z",
     "start_time": "2025-09-22T23:35:30.017608Z"
    }
   },
   "source": [
    "# get the contents of the webpage in text format and store in a variable called data\ndata  = requests.get(URL).text"
   ],
   "outputs": [],
   "execution_count": 8
  },
  {
   "cell_type": "code",
   "metadata": {
    "ExecuteTime": {
     "end_time": "2025-09-22T23:35:31.859893Z",
     "start_time": "2025-09-22T23:35:31.849676Z"
    }
   },
   "source": [
    "soup = BeautifulSoup(data,\"html.parser\")"
   ],
   "outputs": [],
   "execution_count": 9
  },
  {
   "cell_type": "code",
   "metadata": {
    "ExecuteTime": {
     "end_time": "2025-09-22T23:35:32.889504Z",
     "start_time": "2025-09-22T23:35:32.886177Z"
    }
   },
   "source": [
    "#find a html table in the web page\ntable = soup.find('table') # in html table is represented by the tag <table>"
   ],
   "outputs": [],
   "execution_count": 10
  },
  {
   "cell_type": "markdown",
   "metadata": {},
   "source": [
    "# Get all rows from the table\n"
   ]
  },
  {
   "cell_type": "code",
   "metadata": {
    "ExecuteTime": {
     "end_time": "2025-09-22T23:36:26.782190Z",
     "start_time": "2025-09-22T23:36:26.773597Z"
    }
   },
   "source": [
    "for row in table.find_all('tr'): # in html table row is represented by the tag <tr>\n    # Get all columns in each row.\n    cols = row.find_all('td') # in html a column is represented by the tag <td>\n    color_name = cols[2].getText() # store the value in column 3 as color_name\n    color_code = cols[3].getText() # store the value in column 4 as color_code\n    print(\"{}--->{}\".format(color_name,color_code))"
   ],
   "outputs": [
    {
     "name": "stdout",
     "output_type": "stream",
     "text": [
      "Color Name--->Hex Code#RRGGBB\n",
      "lightsalmon--->#FFA07A\n",
      "salmon--->#FA8072\n",
      "darksalmon--->#E9967A\n",
      "lightcoral--->#F08080\n",
      "coral--->#FF7F50\n",
      "tomato--->#FF6347\n",
      "orangered--->#FF4500\n",
      "gold--->#FFD700\n",
      "orange--->#FFA500\n",
      "darkorange--->#FF8C00\n",
      "lightyellow--->#FFFFE0\n",
      "lemonchiffon--->#FFFACD\n",
      "papayawhip--->#FFEFD5\n",
      "moccasin--->#FFE4B5\n",
      "peachpuff--->#FFDAB9\n",
      "palegoldenrod--->#EEE8AA\n",
      "khaki--->#F0E68C\n",
      "darkkhaki--->#BDB76B\n",
      "yellow--->#FFFF00\n",
      "lawngreen--->#7CFC00\n",
      "chartreuse--->#7FFF00\n",
      "limegreen--->#32CD32\n",
      "lime--->#00FF00\n",
      "forestgreen--->#228B22\n",
      "green--->#008000\n",
      "powderblue--->#B0E0E6\n",
      "lightblue--->#ADD8E6\n",
      "lightskyblue--->#87CEFA\n",
      "skyblue--->#87CEEB\n",
      "deepskyblue--->#00BFFF\n",
      "lightsteelblue--->#B0C4DE\n",
      "dodgerblue--->#1E90FF\n"
     ]
    }
   ],
   "execution_count": 11
  },
  {
   "cell_type": "markdown",
   "metadata": {},
   "source": [
    "## Authors\n"
   ]
  },
  {
   "cell_type": "markdown",
   "metadata": {},
   "source": [
    "Ramesh Sannareddy\n"
   ]
  },
  {
   "cell_type": "markdown",
   "metadata": {},
   "source": [
    "### Other Contributors\n"
   ]
  },
  {
   "cell_type": "markdown",
   "metadata": {},
   "source": [
    "Rav Ahuja\n"
   ]
  },
  {
   "cell_type": "markdown",
   "metadata": {},
   "source": [
    "<!--\n",
    "## Change Log\n",
    "|  Date (YYYY-MM-DD) |  Version | Changed By  |  Change Description |\n",
    "|---|---|---|---|\n",
    "| 2024-10-29  | 0.2  | Madhusudhan Moole |  Updated lab |\n",
    "| 2020-10-17  | 0.1  | Ramesh Sannareddy  |  Created initial version of the lab |\n",
    "--!>\n"
   ]
  },
  {
   "cell_type": "markdown",
   "metadata": {},
   "source": [
    "Copyright © IBM Corporation. All rights reserved.\n"
   ]
  }
 ],
 "metadata": {
  "kernelspec": {
   "display_name": "Python 3 (ipykernel)",
   "language": "python",
   "name": "python3"
  },
  "language_info": {
   "codemirror_mode": {
    "name": "ipython",
    "version": 3
   },
   "file_extension": ".py",
   "mimetype": "text/x-python",
   "name": "python",
   "nbconvert_exporter": "python",
   "pygments_lexer": "ipython3",
   "version": "3.11.9"
  },
  "prev_pub_hash": "47f9ffc1b763f98e682ac3a01d2e9180987012a5e050cb2d84fe1df3c67f42fb"
 },
 "nbformat": 4,
 "nbformat_minor": 4
}
