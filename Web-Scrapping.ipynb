## Lab 3: This is a review of web scrapping
